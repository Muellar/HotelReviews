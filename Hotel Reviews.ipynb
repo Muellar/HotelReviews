{
 "cells": [
  {
   "cell_type": "markdown",
   "metadata": {},
   "source": [
    "# Hotel Reviews Analysis"
   ]
  },
  {
   "cell_type": "markdown",
   "metadata": {},
   "source": [
    "In the following project I will analyse the hotel reviews provided by Datafiniti's Business Database. The dataset contains 1400 hotel reviews from customers. The goal of this project is to experiment with natural language processing (NLP). "
   ]
  },
  {
   "cell_type": "markdown",
   "metadata": {},
   "source": [
    "## Import Packages"
   ]
  },
  {
   "cell_type": "code",
   "execution_count": 1,
   "metadata": {},
   "outputs": [],
   "source": [
    "#Data Wrangling\n",
    "import pandas as pd\n",
    "import numpy as np\n",
    "\n",
    "#Visualization\n",
    "import matplotlib.pyplot as plt\n",
    "import seaborn as sns\n",
    "\n",
    "#Natural Language Processing (NLP)\n",
    "from textblob import TextBlob"
   ]
  },
  {
   "cell_type": "markdown",
   "metadata": {},
   "source": [
    "## Import Data"
   ]
  },
  {
   "cell_type": "code",
   "execution_count": 2,
   "metadata": {},
   "outputs": [
    {
     "name": "stdout",
     "output_type": "stream",
     "text": [
      "<class 'pandas.core.frame.DataFrame'>\n",
      "RangeIndex: 10000 entries, 0 to 9999\n",
      "Data columns (total 26 columns):\n",
      " #   Column                Non-Null Count  Dtype  \n",
      "---  ------                --------------  -----  \n",
      " 0   id                    10000 non-null  object \n",
      " 1   dateAdded             10000 non-null  object \n",
      " 2   dateUpdated           10000 non-null  object \n",
      " 3   address               10000 non-null  object \n",
      " 4   categories            10000 non-null  object \n",
      " 5   primaryCategories     10000 non-null  object \n",
      " 6   city                  10000 non-null  object \n",
      " 7   country               10000 non-null  object \n",
      " 8   keys                  10000 non-null  object \n",
      " 9   latitude              10000 non-null  float64\n",
      " 10  longitude             10000 non-null  float64\n",
      " 11  name                  10000 non-null  object \n",
      " 12  postalCode            10000 non-null  object \n",
      " 13  province              10000 non-null  object \n",
      " 14  reviews.date          10000 non-null  object \n",
      " 15  reviews.dateAdded     0 non-null      float64\n",
      " 16  reviews.dateSeen      10000 non-null  object \n",
      " 17  reviews.rating        10000 non-null  int64  \n",
      " 18  reviews.sourceURLs    10000 non-null  object \n",
      " 19  reviews.text          10000 non-null  object \n",
      " 20  reviews.title         9999 non-null   object \n",
      " 21  reviews.userCity      10000 non-null  object \n",
      " 22  reviews.userProvince  9998 non-null   object \n",
      " 23  reviews.username      10000 non-null  object \n",
      " 24  sourceURLs            10000 non-null  object \n",
      " 25  websites              10000 non-null  object \n",
      "dtypes: float64(3), int64(1), object(22)\n",
      "memory usage: 2.0+ MB\n"
     ]
    }
   ],
   "source": [
    "HotelReview = pd.read_csv(\"Datafiniti_Hotel_Reviews_Jun19.csv\") # Import the CSV-File\n",
    "HotelReview.info() # Get some info about the imported file"
   ]
  },
  {
   "cell_type": "markdown",
   "metadata": {},
   "source": [
    "## Data Preparation and Exploration"
   ]
  },
  {
   "cell_type": "markdown",
   "metadata": {},
   "source": [
    "First we want to explore the dataset."
   ]
  },
  {
   "cell_type": "code",
   "execution_count": 3,
   "metadata": {},
   "outputs": [
    {
     "data": {
      "text/html": [
       "<div>\n",
       "<style scoped>\n",
       "    .dataframe tbody tr th:only-of-type {\n",
       "        vertical-align: middle;\n",
       "    }\n",
       "\n",
       "    .dataframe tbody tr th {\n",
       "        vertical-align: top;\n",
       "    }\n",
       "\n",
       "    .dataframe thead th {\n",
       "        text-align: right;\n",
       "    }\n",
       "</style>\n",
       "<table border=\"1\" class=\"dataframe\">\n",
       "  <thead>\n",
       "    <tr style=\"text-align: right;\">\n",
       "      <th></th>\n",
       "      <th>id</th>\n",
       "      <th>dateAdded</th>\n",
       "      <th>dateUpdated</th>\n",
       "      <th>address</th>\n",
       "      <th>categories</th>\n",
       "      <th>primaryCategories</th>\n",
       "      <th>city</th>\n",
       "      <th>country</th>\n",
       "      <th>keys</th>\n",
       "      <th>latitude</th>\n",
       "      <th>...</th>\n",
       "      <th>reviews.dateSeen</th>\n",
       "      <th>reviews.rating</th>\n",
       "      <th>reviews.sourceURLs</th>\n",
       "      <th>reviews.text</th>\n",
       "      <th>reviews.title</th>\n",
       "      <th>reviews.userCity</th>\n",
       "      <th>reviews.userProvince</th>\n",
       "      <th>reviews.username</th>\n",
       "      <th>sourceURLs</th>\n",
       "      <th>websites</th>\n",
       "    </tr>\n",
       "  </thead>\n",
       "  <tbody>\n",
       "    <tr>\n",
       "      <th>0</th>\n",
       "      <td>AWE2FvX5RxPSIh2RscTK</td>\n",
       "      <td>2018-01-18T18:43:12Z</td>\n",
       "      <td>2019-05-20T23:55:47Z</td>\n",
       "      <td>5620 Calle Real</td>\n",
       "      <td>Hotels,Hotels and motels,Hotel and motel mgmt....</td>\n",
       "      <td>Accommodation &amp; Food Services</td>\n",
       "      <td>Goleta</td>\n",
       "      <td>US</td>\n",
       "      <td>us/ca/goleta/5620callereal/-1127060008</td>\n",
       "      <td>34.44178</td>\n",
       "      <td>...</td>\n",
       "      <td>2018-01-03T00:00:00Z</td>\n",
       "      <td>3</td>\n",
       "      <td>https://www.tripadvisor.com/Hotel_Review-g3243...</td>\n",
       "      <td>This hotel was nice and quiet. Did not know, t...</td>\n",
       "      <td>Best Western Plus Hotel</td>\n",
       "      <td>San Jose</td>\n",
       "      <td>UnitedStates</td>\n",
       "      <td>tatsurok2018</td>\n",
       "      <td>https://www.tripadvisor.com/Hotel_Review-g3243...</td>\n",
       "      <td>https://www.bestwestern.com/en_US/book/hotel-r...</td>\n",
       "    </tr>\n",
       "    <tr>\n",
       "      <th>1</th>\n",
       "      <td>AVwcj_OhkufWRAb5wi9T</td>\n",
       "      <td>2016-11-06T20:21:05Z</td>\n",
       "      <td>2019-05-20T23:31:56Z</td>\n",
       "      <td>5th And San Carlos PO Box 3574</td>\n",
       "      <td>Hotels,Lodging,Hotel</td>\n",
       "      <td>Accommodation &amp; Food Services</td>\n",
       "      <td>Carmel by the Sea</td>\n",
       "      <td>US</td>\n",
       "      <td>us/ca/carmelbythesea/5thandsancarlospobox3574/...</td>\n",
       "      <td>36.55722</td>\n",
       "      <td>...</td>\n",
       "      <td>2016-10-09T00:00:00Z</td>\n",
       "      <td>4</td>\n",
       "      <td>https://www.tripadvisor.com/Hotel_Review-g3217...</td>\n",
       "      <td>We stayed in the king suite with the separatio...</td>\n",
       "      <td>Clean rooms at solid rates in the heart of Carmel</td>\n",
       "      <td>San Francisco</td>\n",
       "      <td>CA</td>\n",
       "      <td>STEPHEN N</td>\n",
       "      <td>http://www.tripadvisor.com/Hotel_Review-g32172...</td>\n",
       "      <td>http://www.bestwestern.com</td>\n",
       "    </tr>\n",
       "    <tr>\n",
       "      <th>2</th>\n",
       "      <td>AVwcj_OhkufWRAb5wi9T</td>\n",
       "      <td>2016-11-06T20:21:05Z</td>\n",
       "      <td>2019-05-20T23:31:56Z</td>\n",
       "      <td>5th And San Carlos PO Box 3574</td>\n",
       "      <td>Hotels,Lodging,Hotel</td>\n",
       "      <td>Accommodation &amp; Food Services</td>\n",
       "      <td>Carmel by the Sea</td>\n",
       "      <td>US</td>\n",
       "      <td>us/ca/carmelbythesea/5thandsancarlospobox3574/...</td>\n",
       "      <td>36.55722</td>\n",
       "      <td>...</td>\n",
       "      <td>2016-10-09T00:00:00Z</td>\n",
       "      <td>3</td>\n",
       "      <td>https://www.tripadvisor.com/Hotel_Review-g3217...</td>\n",
       "      <td>Parking was horrible, somebody ran into my ren...</td>\n",
       "      <td>Business</td>\n",
       "      <td>Prescott Valley</td>\n",
       "      <td>AZ</td>\n",
       "      <td>15Deborah</td>\n",
       "      <td>http://www.tripadvisor.com/Hotel_Review-g32172...</td>\n",
       "      <td>http://www.bestwestern.com</td>\n",
       "    </tr>\n",
       "    <tr>\n",
       "      <th>3</th>\n",
       "      <td>AVwcj_OhkufWRAb5wi9T</td>\n",
       "      <td>2016-11-06T20:21:05Z</td>\n",
       "      <td>2019-05-20T23:31:56Z</td>\n",
       "      <td>5th And San Carlos PO Box 3574</td>\n",
       "      <td>Hotels,Lodging,Hotel</td>\n",
       "      <td>Accommodation &amp; Food Services</td>\n",
       "      <td>Carmel by the Sea</td>\n",
       "      <td>US</td>\n",
       "      <td>us/ca/carmelbythesea/5thandsancarlospobox3574/...</td>\n",
       "      <td>36.55722</td>\n",
       "      <td>...</td>\n",
       "      <td>2016-10-31T00:00:00Z</td>\n",
       "      <td>5</td>\n",
       "      <td>https://www.tripadvisor.com/Hotel_Review-g3217...</td>\n",
       "      <td>Not cheap but excellent location. Price is som...</td>\n",
       "      <td>Very good</td>\n",
       "      <td>Guaynabo</td>\n",
       "      <td>PR</td>\n",
       "      <td>Wilfredo M</td>\n",
       "      <td>http://www.tripadvisor.com/Hotel_Review-g32172...</td>\n",
       "      <td>http://www.bestwestern.com</td>\n",
       "    </tr>\n",
       "    <tr>\n",
       "      <th>4</th>\n",
       "      <td>AVwcj_OhkufWRAb5wi9T</td>\n",
       "      <td>2016-11-06T20:21:05Z</td>\n",
       "      <td>2019-05-20T23:31:56Z</td>\n",
       "      <td>5th And San Carlos PO Box 3574</td>\n",
       "      <td>Hotels,Lodging,Hotel</td>\n",
       "      <td>Accommodation &amp; Food Services</td>\n",
       "      <td>Carmel by the Sea</td>\n",
       "      <td>US</td>\n",
       "      <td>us/ca/carmelbythesea/5thandsancarlospobox3574/...</td>\n",
       "      <td>36.55722</td>\n",
       "      <td>...</td>\n",
       "      <td>2016-10-09T00:00:00Z,2016-03-27T00:00:00Z</td>\n",
       "      <td>2</td>\n",
       "      <td>https://www.tripadvisor.com/Hotel_Review-g3217...</td>\n",
       "      <td>If you get the room that they advertised on th...</td>\n",
       "      <td>Low chance to come back here</td>\n",
       "      <td>Reno</td>\n",
       "      <td>NV</td>\n",
       "      <td>Luc D</td>\n",
       "      <td>http://www.tripadvisor.com/Hotel_Review-g32172...</td>\n",
       "      <td>http://www.bestwestern.com</td>\n",
       "    </tr>\n",
       "  </tbody>\n",
       "</table>\n",
       "<p>5 rows × 26 columns</p>\n",
       "</div>"
      ],
      "text/plain": [
       "                     id             dateAdded           dateUpdated  \\\n",
       "0  AWE2FvX5RxPSIh2RscTK  2018-01-18T18:43:12Z  2019-05-20T23:55:47Z   \n",
       "1  AVwcj_OhkufWRAb5wi9T  2016-11-06T20:21:05Z  2019-05-20T23:31:56Z   \n",
       "2  AVwcj_OhkufWRAb5wi9T  2016-11-06T20:21:05Z  2019-05-20T23:31:56Z   \n",
       "3  AVwcj_OhkufWRAb5wi9T  2016-11-06T20:21:05Z  2019-05-20T23:31:56Z   \n",
       "4  AVwcj_OhkufWRAb5wi9T  2016-11-06T20:21:05Z  2019-05-20T23:31:56Z   \n",
       "\n",
       "                          address  \\\n",
       "0                 5620 Calle Real   \n",
       "1  5th And San Carlos PO Box 3574   \n",
       "2  5th And San Carlos PO Box 3574   \n",
       "3  5th And San Carlos PO Box 3574   \n",
       "4  5th And San Carlos PO Box 3574   \n",
       "\n",
       "                                          categories  \\\n",
       "0  Hotels,Hotels and motels,Hotel and motel mgmt....   \n",
       "1                               Hotels,Lodging,Hotel   \n",
       "2                               Hotels,Lodging,Hotel   \n",
       "3                               Hotels,Lodging,Hotel   \n",
       "4                               Hotels,Lodging,Hotel   \n",
       "\n",
       "               primaryCategories               city country  \\\n",
       "0  Accommodation & Food Services             Goleta      US   \n",
       "1  Accommodation & Food Services  Carmel by the Sea      US   \n",
       "2  Accommodation & Food Services  Carmel by the Sea      US   \n",
       "3  Accommodation & Food Services  Carmel by the Sea      US   \n",
       "4  Accommodation & Food Services  Carmel by the Sea      US   \n",
       "\n",
       "                                                keys  latitude  ...  \\\n",
       "0             us/ca/goleta/5620callereal/-1127060008  34.44178  ...   \n",
       "1  us/ca/carmelbythesea/5thandsancarlospobox3574/...  36.55722  ...   \n",
       "2  us/ca/carmelbythesea/5thandsancarlospobox3574/...  36.55722  ...   \n",
       "3  us/ca/carmelbythesea/5thandsancarlospobox3574/...  36.55722  ...   \n",
       "4  us/ca/carmelbythesea/5thandsancarlospobox3574/...  36.55722  ...   \n",
       "\n",
       "                            reviews.dateSeen reviews.rating  \\\n",
       "0                       2018-01-03T00:00:00Z              3   \n",
       "1                       2016-10-09T00:00:00Z              4   \n",
       "2                       2016-10-09T00:00:00Z              3   \n",
       "3                       2016-10-31T00:00:00Z              5   \n",
       "4  2016-10-09T00:00:00Z,2016-03-27T00:00:00Z              2   \n",
       "\n",
       "                                  reviews.sourceURLs  \\\n",
       "0  https://www.tripadvisor.com/Hotel_Review-g3243...   \n",
       "1  https://www.tripadvisor.com/Hotel_Review-g3217...   \n",
       "2  https://www.tripadvisor.com/Hotel_Review-g3217...   \n",
       "3  https://www.tripadvisor.com/Hotel_Review-g3217...   \n",
       "4  https://www.tripadvisor.com/Hotel_Review-g3217...   \n",
       "\n",
       "                                        reviews.text  \\\n",
       "0  This hotel was nice and quiet. Did not know, t...   \n",
       "1  We stayed in the king suite with the separatio...   \n",
       "2  Parking was horrible, somebody ran into my ren...   \n",
       "3  Not cheap but excellent location. Price is som...   \n",
       "4  If you get the room that they advertised on th...   \n",
       "\n",
       "                                       reviews.title  reviews.userCity  \\\n",
       "0                            Best Western Plus Hotel          San Jose   \n",
       "1  Clean rooms at solid rates in the heart of Carmel     San Francisco   \n",
       "2                                           Business   Prescott Valley   \n",
       "3                                          Very good          Guaynabo   \n",
       "4                       Low chance to come back here              Reno   \n",
       "\n",
       "  reviews.userProvince  reviews.username  \\\n",
       "0         UnitedStates      tatsurok2018   \n",
       "1                   CA         STEPHEN N   \n",
       "2                   AZ         15Deborah   \n",
       "3                   PR        Wilfredo M   \n",
       "4                   NV             Luc D   \n",
       "\n",
       "                                          sourceURLs  \\\n",
       "0  https://www.tripadvisor.com/Hotel_Review-g3243...   \n",
       "1  http://www.tripadvisor.com/Hotel_Review-g32172...   \n",
       "2  http://www.tripadvisor.com/Hotel_Review-g32172...   \n",
       "3  http://www.tripadvisor.com/Hotel_Review-g32172...   \n",
       "4  http://www.tripadvisor.com/Hotel_Review-g32172...   \n",
       "\n",
       "                                            websites  \n",
       "0  https://www.bestwestern.com/en_US/book/hotel-r...  \n",
       "1                         http://www.bestwestern.com  \n",
       "2                         http://www.bestwestern.com  \n",
       "3                         http://www.bestwestern.com  \n",
       "4                         http://www.bestwestern.com  \n",
       "\n",
       "[5 rows x 26 columns]"
      ]
     },
     "execution_count": 3,
     "metadata": {},
     "output_type": "execute_result"
    }
   ],
   "source": [
    "HotelReview.head()"
   ]
  },
  {
   "cell_type": "markdown",
   "metadata": {},
   "source": [
    "The reviews consist of a text body and a title. As it seems, the title contains valuable information, which is why we cannot limit ourselves to the body of the text. Interestingly the dataset includes also a rating score in form of a likert scale. This allows us later on to compare the output of the sentiment analysis of the text reviews with the rating scores."
   ]
  },
  {
   "cell_type": "code",
   "execution_count": 4,
   "metadata": {},
   "outputs": [
    {
     "data": {
      "text/plain": [
       "count    10000.000000\n",
       "mean         4.084100\n",
       "std          1.152371\n",
       "min          1.000000\n",
       "25%          4.000000\n",
       "50%          4.000000\n",
       "75%          5.000000\n",
       "max          5.000000\n",
       "Name: reviews.rating, dtype: float64"
      ]
     },
     "execution_count": 4,
     "metadata": {},
     "output_type": "execute_result"
    }
   ],
   "source": [
    "HotelReview['reviews.rating'].describe()"
   ]
  },
  {
   "cell_type": "code",
   "execution_count": 5,
   "metadata": {},
   "outputs": [
    {
     "data": {
      "text/plain": [
       "(array([ 567.,    0.,  554.,    0.,    0., 1190.,    0., 2849.,    0.,\n",
       "        4840.]),\n",
       " array([1. , 1.4, 1.8, 2.2, 2.6, 3. , 3.4, 3.8, 4.2, 4.6, 5. ]),\n",
       " <a list of 10 Patch objects>)"
      ]
     },
     "execution_count": 5,
     "metadata": {},
     "output_type": "execute_result"
    },
    {
     "data": {
      "image/png": "[encoded data removed]",
      "text/plain": [
       "<Figure size 432x288 with 1 Axes>"
      ]
     },
     "metadata": {
      "needs_background": "light"
     },
     "output_type": "display_data"
    }
   ],
   "source": [
    "plt.hist(HotelReview['reviews.rating'])"
   ]
  },
  {
   "cell_type": "markdown",
   "metadata": {},
   "source": [
    "## Sentiment Analysis"
   ]
  },
  {
   "cell_type": "markdown",
   "metadata": {},
   "source": [
    "Now we can perform a sentiment analysis to distil the emotional values of the text."
   ]
  },
  {
   "cell_type": "code",
   "execution_count": 7,
   "metadata": {},
   "outputs": [
    {
     "name": "stdout",
     "output_type": "stream",
     "text": [
      "Sentiment(polarity=1.0, subjectivity=0.3)\n",
      "Sentiment(polarity=0.26, subjectivity=0.26)\n",
      "Sentiment(polarity=0.0, subjectivity=0.0)\n"
     ]
    }
   ],
   "source": [
    "# Let's see a few examples\n",
    "print(TextBlob(\"The best hotel ever\").sentiment)\n",
    "print(TextBlob(\"I didn't like it very much\").sentiment)"
   ]
  },
  {
   "cell_type": "markdown",
   "metadata": {},
   "source": [
    "The first statement was classified as very positive, which is plausible. But the seconde statement, which is pretty negative, got classified as positive."
   ]
  },
  {
   "cell_type": "markdown",
   "metadata": {},
   "source": [
    "## Identify the customer pain points"
   ]
  },
  {
   "cell_type": "markdown",
   "metadata": {},
   "source": [
    "Classify the text content. What are the top reasons why the customers a unhappy?"
   ]
  },
  {
   "cell_type": "code",
   "execution_count": null,
   "metadata": {},
   "outputs": [],
   "source": []
  }
 ],
 "metadata": {
  "kernelspec": {
   "display_name": "Python 3",
   "language": "python",
   "name": "python3"
  },
  "language_info": {
   "codemirror_mode": {
    "name": "ipython",
    "version": 3
   },
   "file_extension": ".py",
   "mimetype": "text/x-python",
   "name": "python",
   "nbconvert_exporter": "python",
   "pygments_lexer": "ipython3",
   "version": "3.7.6"
  }
 },
 "nbformat": 4,
 "nbformat_minor": 4
}
