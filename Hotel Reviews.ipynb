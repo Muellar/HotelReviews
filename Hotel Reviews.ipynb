{
 "cells": [
  {
   "cell_type": "markdown",
   "metadata": {},
   "source": [
    "# Hotel Reviews Analysis"
   ]
  },
  {
   "cell_type": "markdown",
   "metadata": {},
   "source": [
    "In the following project I will analyse the hotel reviews provided by Datafiniti's Business Database. The dataset contains 1400 hotel reviews from customers. The goal of this project is to experiment with natural language processing (NLP). "
   ]
  },
  {
   "cell_type": "markdown",
   "metadata": {},
   "source": [
    "## Import Packages"
   ]
  },
  {
   "cell_type": "code",
   "execution_count": 2,
   "metadata": {},
   "outputs": [],
   "source": [
    "#Data Wrangling\n",
    "import pandas as pd\n",
    "import numpy as np\n",
    "\n",
    "#Visualization\n",
    "import matplotlib.pyplot as plt\n",
    "import seaborn as sns\n",
    "\n",
    "#Natural Language Processing (NLP)\n",
    "from textblob import TextBlob"
   ]
  },
  {
   "cell_type": "markdown",
   "metadata": {},
   "source": [
    "## Import Data"
   ]
  },
  {
   "cell_type": "code",
   "execution_count": 3,
   "metadata": {},
   "outputs": [
    {
     "name": "stdout",
     "output_type": "stream",
     "text": [
      "<class 'pandas.core.frame.DataFrame'>\n",
      "RangeIndex: 10000 entries, 0 to 9999\n",
      "Data columns (total 26 columns):\n",
      " #   Column                Non-Null Count  Dtype  \n",
      "---  ------                --------------  -----  \n",
      " 0   id                    10000 non-null  object \n",
      " 1   dateAdded             10000 non-null  object \n",
      " 2   dateUpdated           10000 non-null  object \n",
      " 3   address               10000 non-null  object \n",
      " 4   categories            10000 non-null  object \n",
      " 5   primaryCategories     10000 non-null  object \n",
      " 6   city                  10000 non-null  object \n",
      " 7   country               10000 non-null  object \n",
      " 8   keys                  10000 non-null  object \n",
      " 9   latitude              10000 non-null  float64\n",
      " 10  longitude             10000 non-null  float64\n",
      " 11  name                  10000 non-null  object \n",
      " 12  postalCode            10000 non-null  object \n",
      " 13  province              10000 non-null  object \n",
      " 14  reviews.date          10000 non-null  object \n",
      " 15  reviews.dateAdded     0 non-null      float64\n",
      " 16  reviews.dateSeen      10000 non-null  object \n",
      " 17  reviews.rating        10000 non-null  int64  \n",
      " 18  reviews.sourceURLs    10000 non-null  object \n",
      " 19  reviews.text          10000 non-null  object \n",
      " 20  reviews.title         9999 non-null   object \n",
      " 21  reviews.userCity      10000 non-null  object \n",
      " 22  reviews.userProvince  9998 non-null   object \n",
      " 23  reviews.username      10000 non-null  object \n",
      " 24  sourceURLs            10000 non-null  object \n",
      " 25  websites              10000 non-null  object \n",
      "dtypes: float64(3), int64(1), object(22)\n",
      "memory usage: 2.0+ MB\n"
     ]
    }
   ],
   "source": [
    "HotelReview = pd.read_csv(\"Datafiniti_Hotel_Reviews_Jun19.csv\") # Import the CSV-File\n",
    "HotelReview.info() # Get some info about the imported file"
   ]
  },
  {
   "cell_type": "markdown",
   "metadata": {},
   "source": [
    "## Data Preparation and Exploration"
   ]
  },
  {
   "cell_type": "markdown",
   "metadata": {},
   "source": [
    "First we want to explore the dataset."
   ]
  },
  {
   "cell_type": "code",
   "execution_count": 3,
   "metadata": {},
   "outputs": [
    {
     "data": {
      "text/html": [
       "<div>\n",
       "<style scoped>\n",
       "    .dataframe tbody tr th:only-of-type {\n",
       "        vertical-align: middle;\n",
       "    }\n",
       "\n",
       "    .dataframe tbody tr th {\n",
       "        vertical-align: top;\n",
       "    }\n",
       "\n",
       "    .dataframe thead th {\n",
       "        text-align: right;\n",
       "    }\n",
       "</style>\n",
       "<table border=\"1\" class=\"dataframe\">\n",
       "  <thead>\n",
       "    <tr style=\"text-align: right;\">\n",
       "      <th></th>\n",
       "      <th>id</th>\n",
       "      <th>dateAdded</th>\n",
       "      <th>dateUpdated</th>\n",
       "      <th>address</th>\n",
       "      <th>categories</th>\n",
       "      <th>primaryCategories</th>\n",
       "      <th>city</th>\n",
       "      <th>country</th>\n",
       "      <th>keys</th>\n",
       "      <th>latitude</th>\n",
       "      <th>...</th>\n",
       "      <th>reviews.dateSeen</th>\n",
       "      <th>reviews.rating</th>\n",
       "      <th>reviews.sourceURLs</th>\n",
       "      <th>reviews.text</th>\n",
       "      <th>reviews.title</th>\n",
       "      <th>reviews.userCity</th>\n",
       "      <th>reviews.userProvince</th>\n",
       "      <th>reviews.username</th>\n",
       "      <th>sourceURLs</th>\n",
       "      <th>websites</th>\n",
       "    </tr>\n",
       "  </thead>\n",
       "  <tbody>\n",
       "    <tr>\n",
       "      <th>0</th>\n",
       "      <td>AWE2FvX5RxPSIh2RscTK</td>\n",
       "      <td>2018-01-18T18:43:12Z</td>\n",
       "      <td>2019-05-20T23:55:47Z</td>\n",
       "      <td>5620 Calle Real</td>\n",
       "      <td>Hotels,Hotels and motels,Hotel and motel mgmt....</td>\n",
       "      <td>Accommodation &amp; Food Services</td>\n",
       "      <td>Goleta</td>\n",
       "      <td>US</td>\n",
       "      <td>us/ca/goleta/5620callereal/-1127060008</td>\n",
       "      <td>34.44178</td>\n",
       "      <td>...</td>\n",
       "      <td>2018-01-03T00:00:00Z</td>\n",
       "      <td>3</td>\n",
       "      <td>https://www.tripadvisor.com/Hotel_Review-g3243...</td>\n",
       "      <td>This hotel was nice and quiet. Did not know, t...</td>\n",
       "      <td>Best Western Plus Hotel</td>\n",
       "      <td>San Jose</td>\n",
       "      <td>UnitedStates</td>\n",
       "      <td>tatsurok2018</td>\n",
       "      <td>https://www.tripadvisor.com/Hotel_Review-g3243...</td>\n",
       "      <td>https://www.bestwestern.com/en_US/book/hotel-r...</td>\n",
       "    </tr>\n",
       "    <tr>\n",
       "      <th>1</th>\n",
       "      <td>AVwcj_OhkufWRAb5wi9T</td>\n",
       "      <td>2016-11-06T20:21:05Z</td>\n",
       "      <td>2019-05-20T23:31:56Z</td>\n",
       "      <td>5th And San Carlos PO Box 3574</td>\n",
       "      <td>Hotels,Lodging,Hotel</td>\n",
       "      <td>Accommodation &amp; Food Services</td>\n",
       "      <td>Carmel by the Sea</td>\n",
       "      <td>US</td>\n",
       "      <td>us/ca/carmelbythesea/5thandsancarlospobox3574/...</td>\n",
       "      <td>36.55722</td>\n",
       "      <td>...</td>\n",
       "      <td>2016-10-09T00:00:00Z</td>\n",
       "      <td>4</td>\n",
       "      <td>https://www.tripadvisor.com/Hotel_Review-g3217...</td>\n",
       "      <td>We stayed in the king suite with the separatio...</td>\n",
       "      <td>Clean rooms at solid rates in the heart of Carmel</td>\n",
       "      <td>San Francisco</td>\n",
       "      <td>CA</td>\n",
       "      <td>STEPHEN N</td>\n",
       "      <td>http://www.tripadvisor.com/Hotel_Review-g32172...</td>\n",
       "      <td>http://www.bestwestern.com</td>\n",
       "    </tr>\n",
       "    <tr>\n",
       "      <th>2</th>\n",
       "      <td>AVwcj_OhkufWRAb5wi9T</td>\n",
       "      <td>2016-11-06T20:21:05Z</td>\n",
       "      <td>2019-05-20T23:31:56Z</td>\n",
       "      <td>5th And San Carlos PO Box 3574</td>\n",
       "      <td>Hotels,Lodging,Hotel</td>\n",
       "      <td>Accommodation &amp; Food Services</td>\n",
       "      <td>Carmel by the Sea</td>\n",
       "      <td>US</td>\n",
       "      <td>us/ca/carmelbythesea/5thandsancarlospobox3574/...</td>\n",
       "      <td>36.55722</td>\n",
       "      <td>...</td>\n",
       "      <td>2016-10-09T00:00:00Z</td>\n",
       "      <td>3</td>\n",
       "      <td>https://www.tripadvisor.com/Hotel_Review-g3217...</td>\n",
       "      <td>Parking was horrible, somebody ran into my ren...</td>\n",
       "      <td>Business</td>\n",
       "      <td>Prescott Valley</td>\n",
       "      <td>AZ</td>\n",
       "      <td>15Deborah</td>\n",
       "      <td>http://www.tripadvisor.com/Hotel_Review-g32172...</td>\n",
       "      <td>http://www.bestwestern.com</td>\n",
       "    </tr>\n",
       "    <tr>\n",
       "      <th>3</th>\n",
       "      <td>AVwcj_OhkufWRAb5wi9T</td>\n",
       "      <td>2016-11-06T20:21:05Z</td>\n",
       "      <td>2019-05-20T23:31:56Z</td>\n",
       "      <td>5th And San Carlos PO Box 3574</td>\n",
       "      <td>Hotels,Lodging,Hotel</td>\n",
       "      <td>Accommodation &amp; Food Services</td>\n",
       "      <td>Carmel by the Sea</td>\n",
       "      <td>US</td>\n",
       "      <td>us/ca/carmelbythesea/5thandsancarlospobox3574/...</td>\n",
       "      <td>36.55722</td>\n",
       "      <td>...</td>\n",
       "      <td>2016-10-31T00:00:00Z</td>\n",
       "      <td>5</td>\n",
       "      <td>https://www.tripadvisor.com/Hotel_Review-g3217...</td>\n",
       "      <td>Not cheap but excellent location. Price is som...</td>\n",
       "      <td>Very good</td>\n",
       "      <td>Guaynabo</td>\n",
       "      <td>PR</td>\n",
       "      <td>Wilfredo M</td>\n",
       "      <td>http://www.tripadvisor.com/Hotel_Review-g32172...</td>\n",
       "      <td>http://www.bestwestern.com</td>\n",
       "    </tr>\n",
       "    <tr>\n",
       "      <th>4</th>\n",
       "      <td>AVwcj_OhkufWRAb5wi9T</td>\n",
       "      <td>2016-11-06T20:21:05Z</td>\n",
       "      <td>2019-05-20T23:31:56Z</td>\n",
       "      <td>5th And San Carlos PO Box 3574</td>\n",
       "      <td>Hotels,Lodging,Hotel</td>\n",
       "      <td>Accommodation &amp; Food Services</td>\n",
       "      <td>Carmel by the Sea</td>\n",
       "      <td>US</td>\n",
       "      <td>us/ca/carmelbythesea/5thandsancarlospobox3574/...</td>\n",
       "      <td>36.55722</td>\n",
       "      <td>...</td>\n",
       "      <td>2016-10-09T00:00:00Z,2016-03-27T00:00:00Z</td>\n",
       "      <td>2</td>\n",
       "      <td>https://www.tripadvisor.com/Hotel_Review-g3217...</td>\n",
       "      <td>If you get the room that they advertised on th...</td>\n",
       "      <td>Low chance to come back here</td>\n",
       "      <td>Reno</td>\n",
       "      <td>NV</td>\n",
       "      <td>Luc D</td>\n",
       "      <td>http://www.tripadvisor.com/Hotel_Review-g32172...</td>\n",
       "      <td>http://www.bestwestern.com</td>\n",
       "    </tr>\n",
       "  </tbody>\n",
       "</table>\n",
       "<p>5 rows × 26 columns</p>\n",
       "</div>"
      ],
      "text/plain": [
       "                     id             dateAdded           dateUpdated  \\\n",
       "0  AWE2FvX5RxPSIh2RscTK  2018-01-18T18:43:12Z  2019-05-20T23:55:47Z   \n",
       "1  AVwcj_OhkufWRAb5wi9T  2016-11-06T20:21:05Z  2019-05-20T23:31:56Z   \n",
       "2  AVwcj_OhkufWRAb5wi9T  2016-11-06T20:21:05Z  2019-05-20T23:31:56Z   \n",
       "3  AVwcj_OhkufWRAb5wi9T  2016-11-06T20:21:05Z  2019-05-20T23:31:56Z   \n",
       "4  AVwcj_OhkufWRAb5wi9T  2016-11-06T20:21:05Z  2019-05-20T23:31:56Z   \n",
       "\n",
       "                          address  \\\n",
       "0                 5620 Calle Real   \n",
       "1  5th And San Carlos PO Box 3574   \n",
       "2  5th And San Carlos PO Box 3574   \n",
       "3  5th And San Carlos PO Box 3574   \n",
       "4  5th And San Carlos PO Box 3574   \n",
       "\n",
       "                                          categories  \\\n",
       "0  Hotels,Hotels and motels,Hotel and motel mgmt....   \n",
       "1                               Hotels,Lodging,Hotel   \n",
       "2                               Hotels,Lodging,Hotel   \n",
       "3                               Hotels,Lodging,Hotel   \n",
       "4                               Hotels,Lodging,Hotel   \n",
       "\n",
       "               primaryCategories               city country  \\\n",
       "0  Accommodation & Food Services             Goleta      US   \n",
       "1  Accommodation & Food Services  Carmel by the Sea      US   \n",
       "2  Accommodation & Food Services  Carmel by the Sea      US   \n",
       "3  Accommodation & Food Services  Carmel by the Sea      US   \n",
       "4  Accommodation & Food Services  Carmel by the Sea      US   \n",
       "\n",
       "                                                keys  latitude  ...  \\\n",
       "0             us/ca/goleta/5620callereal/-1127060008  34.44178  ...   \n",
       "1  us/ca/carmelbythesea/5thandsancarlospobox3574/...  36.55722  ...   \n",
       "2  us/ca/carmelbythesea/5thandsancarlospobox3574/...  36.55722  ...   \n",
       "3  us/ca/carmelbythesea/5thandsancarlospobox3574/...  36.55722  ...   \n",
       "4  us/ca/carmelbythesea/5thandsancarlospobox3574/...  36.55722  ...   \n",
       "\n",
       "                            reviews.dateSeen reviews.rating  \\\n",
       "0                       2018-01-03T00:00:00Z              3   \n",
       "1                       2016-10-09T00:00:00Z              4   \n",
       "2                       2016-10-09T00:00:00Z              3   \n",
       "3                       2016-10-31T00:00:00Z              5   \n",
       "4  2016-10-09T00:00:00Z,2016-03-27T00:00:00Z              2   \n",
       "\n",
       "                                  reviews.sourceURLs  \\\n",
       "0  https://www.tripadvisor.com/Hotel_Review-g3243...   \n",
       "1  https://www.tripadvisor.com/Hotel_Review-g3217...   \n",
       "2  https://www.tripadvisor.com/Hotel_Review-g3217...   \n",
       "3  https://www.tripadvisor.com/Hotel_Review-g3217...   \n",
       "4  https://www.tripadvisor.com/Hotel_Review-g3217...   \n",
       "\n",
       "                                        reviews.text  \\\n",
       "0  This hotel was nice and quiet. Did not know, t...   \n",
       "1  We stayed in the king suite with the separatio...   \n",
       "2  Parking was horrible, somebody ran into my ren...   \n",
       "3  Not cheap but excellent location. Price is som...   \n",
       "4  If you get the room that they advertised on th...   \n",
       "\n",
       "                                       reviews.title  reviews.userCity  \\\n",
       "0                            Best Western Plus Hotel          San Jose   \n",
       "1  Clean rooms at solid rates in the heart of Carmel     San Francisco   \n",
       "2                                           Business   Prescott Valley   \n",
       "3                                          Very good          Guaynabo   \n",
       "4                       Low chance to come back here              Reno   \n",
       "\n",
       "  reviews.userProvince  reviews.username  \\\n",
       "0         UnitedStates      tatsurok2018   \n",
       "1                   CA         STEPHEN N   \n",
       "2                   AZ         15Deborah   \n",
       "3                   PR        Wilfredo M   \n",
       "4                   NV             Luc D   \n",
       "\n",
       "                                          sourceURLs  \\\n",
       "0  https://www.tripadvisor.com/Hotel_Review-g3243...   \n",
       "1  http://www.tripadvisor.com/Hotel_Review-g32172...   \n",
       "2  http://www.tripadvisor.com/Hotel_Review-g32172...   \n",
       "3  http://www.tripadvisor.com/Hotel_Review-g32172...   \n",
       "4  http://www.tripadvisor.com/Hotel_Review-g32172...   \n",
       "\n",
       "                                            websites  \n",
       "0  https://www.bestwestern.com/en_US/book/hotel-r...  \n",
       "1                         http://www.bestwestern.com  \n",
       "2                         http://www.bestwestern.com  \n",
       "3                         http://www.bestwestern.com  \n",
       "4                         http://www.bestwestern.com  \n",
       "\n",
       "[5 rows x 26 columns]"
      ]
     },
     "execution_count": 3,
     "metadata": {},
     "output_type": "execute_result"
    }
   ],
   "source": [
    "HotelReview.head()"
   ]
  },
  {
   "cell_type": "markdown",
   "metadata": {},
   "source": [
    "The reviews consist of a text body and a title. As it seems, the title contains valuable information, which is why we cannot limit ourselves to the textbody. Interestingly the dataset includes also a rating score in form of a likert scale. This allows us later on to compare the output of the sentiment analysis of the text reviews with the rating scores."
   ]
  },
  {
   "cell_type": "code",
   "execution_count": 4,
   "metadata": {},
   "outputs": [
    {
     "data": {
      "text/plain": [
       "count    10000.000000\n",
       "mean         4.084100\n",
       "std          1.152371\n",
       "min          1.000000\n",
       "25%          4.000000\n",
       "50%          4.000000\n",
       "75%          5.000000\n",
       "max          5.000000\n",
       "Name: reviews.rating, dtype: float64"
      ]
     },
     "execution_count": 4,
     "metadata": {},
     "output_type": "execute_result"
    }
   ],
   "source": [
    "HotelReview['reviews.rating'].describe()"
   ]
  },
  {
   "cell_type": "code",
   "execution_count": 5,
   "metadata": {},
   "outputs": [
    {
     "data": {
      "text/plain": [
       "(array([ 567.,    0.,  554.,    0.,    0., 1190.,    0., 2849.,    0.,\n",
       "        4840.]),\n",
       " array([1. , 1.4, 1.8, 2.2, 2.6, 3. , 3.4, 3.8, 4.2, 4.6, 5. ]),\n",
       " <a list of 10 Patch objects>)"
      ]
     },
     "execution_count": 5,
     "metadata": {},
     "output_type": "execute_result"
    },
    {
     "data": {
      "image/png": "[encoded data removed]",
      "text/plain": [
       "<Figure size 432x288 with 1 Axes>"
      ]
     },
     "metadata": {
      "needs_background": "light"
     },
     "output_type": "display_data"
    }
   ],
   "source": [
    "plt.hist(HotelReview['reviews.rating'])"
   ]
  },
  {
   "cell_type": "markdown",
   "metadata": {},
   "source": [
    "## Sentiment Analysis"
   ]
  },
  {
   "cell_type": "markdown",
   "metadata": {},
   "source": [
    "Now we can perform a sentiment analysis to distil the emotional values of the text."
   ]
  },
  {
   "cell_type": "code",
   "execution_count": 21,
   "metadata": {},
   "outputs": [
    {
     "name": "stdout",
     "output_type": "stream",
     "text": [
      "Sentiment(polarity=1.0, subjectivity=0.3)\n",
      "Sentiment(polarity=0.26, subjectivity=0.26)\n"
     ]
    }
   ],
   "source": [
    "# Let's see a few examples\n",
    "print(TextBlob(\"The best hotel ever\").sentiment)\n",
    "print(TextBlob(\"I didn't like it very much\").sentiment)"
   ]
  },
  {
   "cell_type": "markdown",
   "metadata": {},
   "source": [
    "The first statement was classified as very positive, which is plausible. But the seconde statement, which is pretty negative, also got classified as positive. So it seems that TextBlob won't classify every review correctly, but maybe it's still good enough to extract some interesting insights.\n",
    "\n",
    "TextBlob uses a lexicon (https://github.com/sloria/TextBlob/blob/eb08c120d364e908646731d60b4e4c6c1712ff63/textblob/en/en-sentiment.xml) which stores polarity and subjectivity scores for every word. If there are multiple words, i.e. in a sentence, it simply averages the scores of each individual word. \n",
    "\n",
    "See the following example:"
   ]
  },
  {
   "cell_type": "code",
   "execution_count": 8,
   "metadata": {},
   "outputs": [
    {
     "name": "stdout",
     "output_type": "stream",
     "text": [
      "Sentiment(polarity=0.8, subjectivity=0.75)\n",
      "Sentiment(polarity=-0.6999999999999998, subjectivity=0.6666666666666666)\n",
      "Sentiment(polarity=0.0500000000000001, subjectivity=0.7083333333333333)\n"
     ]
    }
   ],
   "source": [
    "print(TextBlob(\"great\").sentiment)\n",
    "print(TextBlob(\"bad\").sentiment)\n",
    "print(TextBlob(\"great bad\").sentiment)"
   ]
  },
  {
   "cell_type": "markdown",
   "metadata": {},
   "source": [
    "#### Text Sentiments"
   ]
  },
  {
   "cell_type": "markdown",
   "metadata": {},
   "source": [
    "Now we will create the polarity and subjectivity scores for every review text and every review title."
   ]
  },
  {
   "cell_type": "code",
   "execution_count": 16,
   "metadata": {},
   "outputs": [],
   "source": [
    "# Create sentiment metrics for the texts\n",
    "text = [TextBlob(text) for text in HotelReview['reviews.text']]\n",
    "HotelReview['Text.Pol'] = [b.sentiment.polarity for b in text]\n",
    "HotelReview['Text.Subj'] = [b.sentiment.subjectivity for b in text]"
   ]
  },
  {
   "cell_type": "markdown",
   "metadata": {},
   "source": [
    "https://medium.com/swlh/simple-sentiment-analysis-for-nlp-beginners-and-everyone-else-using-vader-and-textblob-728da3dbe33d"
   ]
  },
  {
   "cell_type": "code",
   "execution_count": 14,
   "metadata": {},
   "outputs": [
    {
     "name": "stderr",
     "output_type": "stream",
     "text": [
      "D:\\Statsprograms\\Anaconda\\lib\\site-packages\\ipykernel_launcher.py:1: FutureWarning: Passing a negative integer is deprecated in version 1.0 and will not be supported in future version. Instead, use None to not limit the column width.\n",
      "  \"\"\"Entry point for launching an IPython kernel.\n"
     ]
    },
    {
     "data": {
      "text/html": [
       "<div>\n",
       "<style scoped>\n",
       "    .dataframe tbody tr th:only-of-type {\n",
       "        vertical-align: middle;\n",
       "    }\n",
       "\n",
       "    .dataframe tbody tr th {\n",
       "        vertical-align: top;\n",
       "    }\n",
       "\n",
       "    .dataframe thead th {\n",
       "        text-align: right;\n",
       "    }\n",
       "</style>\n",
       "<table border=\"1\" class=\"dataframe\">\n",
       "  <thead>\n",
       "    <tr style=\"text-align: right;\">\n",
       "      <th></th>\n",
       "      <th>reviews.text</th>\n",
       "      <th>Text.Pol</th>\n",
       "      <th>Text.Subj</th>\n",
       "    </tr>\n",
       "  </thead>\n",
       "  <tbody>\n",
       "    <tr>\n",
       "      <th>0</th>\n",
       "      <td>This hotel was nice and quiet. Did not know, there was train track near by. But it was only few train passed during our stay. Best Western changed hotel classification. The Plus category are not the same as before.</td>\n",
       "      <td>0.187500</td>\n",
       "      <td>0.407292</td>\n",
       "    </tr>\n",
       "    <tr>\n",
       "      <th>1</th>\n",
       "      <td>We stayed in the king suite with the separation between the bedroom and the living space. The sofa bed wasn't very good I had back discomfort by the day we left on our three night stay. The room is clean, and the king bed very comfortable. This hotel is located within walking distance to most places you will want to... More</td>\n",
       "      <td>0.399524</td>\n",
       "      <td>0.497143</td>\n",
       "    </tr>\n",
       "    <tr>\n",
       "      <th>2</th>\n",
       "      <td>Parking was horrible, somebody ran into my rental car while staying there. I didn't get to try the breakfast, I was there for business so the restaurant opened to late for the business world to enjoy, I had to asked for coffee for my room, And the items in the vending machine were stale.</td>\n",
       "      <td>-0.350000</td>\n",
       "      <td>0.650000</td>\n",
       "    </tr>\n",
       "    <tr>\n",
       "      <th>3</th>\n",
       "      <td>Not cheap but excellent location. Price is somewhat standard for not hacing reservations. But room was nice and clean. They offer good continental breakfast which is a plus and compensates. Front desk service and personnel where excellent. It is Carmel, no A/C in rooms but they have a fan for air circulation.</td>\n",
       "      <td>0.495238</td>\n",
       "      <td>0.714286</td>\n",
       "    </tr>\n",
       "    <tr>\n",
       "      <th>4</th>\n",
       "      <td>If you get the room that they advertised on the website and for what you paid, you may be lucky.If you stay many days , they will give you the not so good rooms.Nobody wants to stay in these rooms: low light/dark rooms, near pool, noisy, smelly bathrooms, or difficult access. If you stay one-two days you will get probably... More</td>\n",
       "      <td>0.214286</td>\n",
       "      <td>0.485714</td>\n",
       "    </tr>\n",
       "    <tr>\n",
       "      <th>...</th>\n",
       "      <td>...</td>\n",
       "      <td>...</td>\n",
       "      <td>...</td>\n",
       "    </tr>\n",
       "    <tr>\n",
       "      <th>9995</th>\n",
       "      <td>My friends and I took a trip to Hampton for the Basslights show and booked us a couple rooms for Saturday and Sunday. When we arrived around 7am we realized we should have booked more than 2 rooms because of how many people we had and went to the concierge to check if there were any additional rooms available. They... More</td>\n",
       "      <td>0.475000</td>\n",
       "      <td>0.475000</td>\n",
       "    </tr>\n",
       "    <tr>\n",
       "      <th>9996</th>\n",
       "      <td>from check in to departure, staff is friendly, professional and wanting to help. the property is clean, the rooms clean and quiet and very comfortable. the area made me feel very safe. i even walked to my work and other businesses. parking is very adequate.</td>\n",
       "      <td>0.298519</td>\n",
       "      <td>0.532407</td>\n",
       "    </tr>\n",
       "    <tr>\n",
       "      <th>9997</th>\n",
       "      <td>This Hampton is located on a quiet street across from a hospital, located minutes from Langley/Ft Eutis Base. Easy access to I-40. A hop skip and jump from Virginia Beach, and Williamsburg. Overall the hotel was busy with lots of guests but not overcrowded. The rooms were clean and comfortable.</td>\n",
       "      <td>0.071429</td>\n",
       "      <td>0.566667</td>\n",
       "    </tr>\n",
       "    <tr>\n",
       "      <th>9998</th>\n",
       "      <td>Awesome wings (my favorite was garlic parmesan) and a great atmosphere! Not to mention they have an awesome music selection, a lottery machine and arcade games to cure your boredom! The owners are amazing!Thank you!</td>\n",
       "      <td>0.875000</td>\n",
       "      <td>0.937500</td>\n",
       "    </tr>\n",
       "    <tr>\n",
       "      <th>9999</th>\n",
       "      <td>Clean facility just off freeway ..... staff friendly and efficient .... good breakfast choices. We will stay here again for follow up visits with doctors at UT Northeast and recommend it for others requiring expected high standards from Hilton properties.</td>\n",
       "      <td>0.300333</td>\n",
       "      <td>0.548000</td>\n",
       "    </tr>\n",
       "  </tbody>\n",
       "</table>\n",
       "<p>10000 rows × 3 columns</p>\n",
       "</div>"
      ],
      "text/plain": [
       "                                                                                                                                                                                                                                                                                                                                     reviews.text  \\\n",
       "0     This hotel was nice and quiet. Did not know, there was train track near by. But it was only few train passed during our stay. Best Western changed hotel classification. The Plus category are not the same as before.                                                                                                                        \n",
       "1     We stayed in the king suite with the separation between the bedroom and the living space. The sofa bed wasn't very good I had back discomfort by the day we left on our three night stay. The room is clean, and the king bed very comfortable. This hotel is located within walking distance to most places you will want to... More         \n",
       "2     Parking was horrible, somebody ran into my rental car while staying there. I didn't get to try the breakfast, I was there for business so the restaurant opened to late for the business world to enjoy, I had to asked for coffee for my room, And the items in the vending machine were stale.                                              \n",
       "3     Not cheap but excellent location. Price is somewhat standard for not hacing reservations. But room was nice and clean. They offer good continental breakfast which is a plus and compensates. Front desk service and personnel where excellent. It is Carmel, no A/C in rooms but they have a fan for air circulation.                        \n",
       "4     If you get the room that they advertised on the website and for what you paid, you may be lucky.If you stay many days , they will give you the not so good rooms.Nobody wants to stay in these rooms: low light/dark rooms, near pool, noisy, smelly bathrooms, or difficult access. If you stay one-two days you will get probably... More   \n",
       "...                                                                                                                                                                                                                                                                                                                                           ...   \n",
       "9995  My friends and I took a trip to Hampton for the Basslights show and booked us a couple rooms for Saturday and Sunday. When we arrived around 7am we realized we should have booked more than 2 rooms because of how many people we had and went to the concierge to check if there were any additional rooms available. They... More          \n",
       "9996  from check in to departure, staff is friendly, professional and wanting to help. the property is clean, the rooms clean and quiet and very comfortable. the area made me feel very safe. i even walked to my work and other businesses. parking is very adequate.                                                                             \n",
       "9997  This Hampton is located on a quiet street across from a hospital, located minutes from Langley/Ft Eutis Base. Easy access to I-40. A hop skip and jump from Virginia Beach, and Williamsburg. Overall the hotel was busy with lots of guests but not overcrowded. The rooms were clean and comfortable.                                       \n",
       "9998  Awesome wings (my favorite was garlic parmesan) and a great atmosphere! Not to mention they have an awesome music selection, a lottery machine and arcade games to cure your boredom! The owners are amazing!Thank you!                                                                                                                       \n",
       "9999  Clean facility just off freeway ..... staff friendly and efficient .... good breakfast choices. We will stay here again for follow up visits with doctors at UT Northeast and recommend it for others requiring expected high standards from Hilton properties.                                                                               \n",
       "\n",
       "      Text.Pol  Text.Subj  \n",
       "0     0.187500  0.407292   \n",
       "1     0.399524  0.497143   \n",
       "2    -0.350000  0.650000   \n",
       "3     0.495238  0.714286   \n",
       "4     0.214286  0.485714   \n",
       "...        ...       ...   \n",
       "9995  0.475000  0.475000   \n",
       "9996  0.298519  0.532407   \n",
       "9997  0.071429  0.566667   \n",
       "9998  0.875000  0.937500   \n",
       "9999  0.300333  0.548000   \n",
       "\n",
       "[10000 rows x 3 columns]"
      ]
     },
     "execution_count": 14,
     "metadata": {},
     "output_type": "execute_result"
    }
   ],
   "source": [
    "pd.set_option('display.max_colwidth', -1) # so that we can see the whole review text\n",
    "HotelReview[['reviews.text', 'Text.Pol', 'Text.Subj']] # display a few examples"
   ]
  },
  {
   "cell_type": "code",
   "execution_count": 30,
   "metadata": {},
   "outputs": [],
   "source": [
    "# Create sentiment metrics for the titles\n",
    "HotelReview['reviews.title'] = HotelReview['reviews.title'].astype(str) # because some values seem to be 'float'\n",
    "title = [TextBlob(title) for title in HotelReview['reviews.title']]\n",
    "HotelReview['Title.Pol'] = [b.sentiment.polarity for b in title]\n",
    "HotelReview['Title.Subj'] = [b.sentiment.subjectivity for b in title]"
   ]
  },
  {
   "cell_type": "code",
   "execution_count": 31,
   "metadata": {},
   "outputs": [
    {
     "name": "stderr",
     "output_type": "stream",
     "text": [
      "D:\\Statsprograms\\Anaconda\\lib\\site-packages\\ipykernel_launcher.py:1: FutureWarning: Passing a negative integer is deprecated in version 1.0 and will not be supported in future version. Instead, use None to not limit the column width.\n",
      "  \"\"\"Entry point for launching an IPython kernel.\n"
     ]
    },
    {
     "data": {
      "text/html": [
       "<div>\n",
       "<style scoped>\n",
       "    .dataframe tbody tr th:only-of-type {\n",
       "        vertical-align: middle;\n",
       "    }\n",
       "\n",
       "    .dataframe tbody tr th {\n",
       "        vertical-align: top;\n",
       "    }\n",
       "\n",
       "    .dataframe thead th {\n",
       "        text-align: right;\n",
       "    }\n",
       "</style>\n",
       "<table border=\"1\" class=\"dataframe\">\n",
       "  <thead>\n",
       "    <tr style=\"text-align: right;\">\n",
       "      <th></th>\n",
       "      <th>reviews.title</th>\n",
       "      <th>Title.Pol</th>\n",
       "      <th>Title.Subj</th>\n",
       "    </tr>\n",
       "  </thead>\n",
       "  <tbody>\n",
       "    <tr>\n",
       "      <th>0</th>\n",
       "      <td>Best Western Plus Hotel</td>\n",
       "      <td>0.500000</td>\n",
       "      <td>0.150</td>\n",
       "    </tr>\n",
       "    <tr>\n",
       "      <th>1</th>\n",
       "      <td>Clean rooms at solid rates in the heart of Carmel</td>\n",
       "      <td>0.183333</td>\n",
       "      <td>0.400</td>\n",
       "    </tr>\n",
       "    <tr>\n",
       "      <th>2</th>\n",
       "      <td>Business</td>\n",
       "      <td>0.000000</td>\n",
       "      <td>0.000</td>\n",
       "    </tr>\n",
       "    <tr>\n",
       "      <th>3</th>\n",
       "      <td>Very good</td>\n",
       "      <td>0.910000</td>\n",
       "      <td>0.780</td>\n",
       "    </tr>\n",
       "    <tr>\n",
       "      <th>4</th>\n",
       "      <td>Low chance to come back here</td>\n",
       "      <td>0.000000</td>\n",
       "      <td>0.150</td>\n",
       "    </tr>\n",
       "    <tr>\n",
       "      <th>...</th>\n",
       "      <td>...</td>\n",
       "      <td>...</td>\n",
       "      <td>...</td>\n",
       "    </tr>\n",
       "    <tr>\n",
       "      <th>9995</th>\n",
       "      <td>Very accommodating and friendly staff!</td>\n",
       "      <td>0.334375</td>\n",
       "      <td>0.400</td>\n",
       "    </tr>\n",
       "    <tr>\n",
       "      <th>9996</th>\n",
       "      <td>comfortable, friendly, clean, professional</td>\n",
       "      <td>0.310417</td>\n",
       "      <td>0.525</td>\n",
       "    </tr>\n",
       "    <tr>\n",
       "      <th>9997</th>\n",
       "      <td>Great location</td>\n",
       "      <td>0.800000</td>\n",
       "      <td>0.750</td>\n",
       "    </tr>\n",
       "    <tr>\n",
       "      <th>9998</th>\n",
       "      <td>Great Atmosphere!</td>\n",
       "      <td>1.000000</td>\n",
       "      <td>0.750</td>\n",
       "    </tr>\n",
       "    <tr>\n",
       "      <th>9999</th>\n",
       "      <td>Health care appointments</td>\n",
       "      <td>0.000000</td>\n",
       "      <td>0.000</td>\n",
       "    </tr>\n",
       "  </tbody>\n",
       "</table>\n",
       "<p>10000 rows × 3 columns</p>\n",
       "</div>"
      ],
      "text/plain": [
       "                                          reviews.title  Title.Pol  Title.Subj\n",
       "0     Best Western Plus Hotel                            0.500000   0.150     \n",
       "1     Clean rooms at solid rates in the heart of Carmel  0.183333   0.400     \n",
       "2     Business                                           0.000000   0.000     \n",
       "3     Very good                                          0.910000   0.780     \n",
       "4     Low chance to come back here                       0.000000   0.150     \n",
       "...                            ...                            ...     ...     \n",
       "9995  Very accommodating and friendly staff!             0.334375   0.400     \n",
       "9996  comfortable, friendly, clean, professional         0.310417   0.525     \n",
       "9997  Great location                                     0.800000   0.750     \n",
       "9998  Great Atmosphere!                                  1.000000   0.750     \n",
       "9999  Health care appointments                           0.000000   0.000     \n",
       "\n",
       "[10000 rows x 3 columns]"
      ]
     },
     "execution_count": 31,
     "metadata": {},
     "output_type": "execute_result"
    }
   ],
   "source": [
    "pd.set_option('display.max_colwidth', -1) # so that we can see the whole review text\n",
    "HotelReview[['reviews.title', 'Title.Pol', 'Title.Subj']] # display a few examples"
   ]
  },
  {
   "cell_type": "markdown",
   "metadata": {},
   "source": [
    "# Correlations"
   ]
  },
  {
   "cell_type": "markdown",
   "metadata": {},
   "source": [
    "In the next step we will analyze some correlations."
   ]
  },
  {
   "cell_type": "code",
   "execution_count": 32,
   "metadata": {},
   "outputs": [
    {
     "name": "stdout",
     "output_type": "stream",
     "text": [
      "SpearmanrResult(correlation=0.3104101616415508, pvalue=2.780732296355151e-222)\n"
     ]
    }
   ],
   "source": [
    "from scipy.stats import spearmanr\n",
    "print(spearmanr(HotelReview['Title.Pol'], HotelReview['Text.Pol']))"
   ]
  },
  {
   "cell_type": "code",
   "execution_count": 33,
   "metadata": {},
   "outputs": [
    {
     "data": {
      "text/plain": [
       "<matplotlib.collections.PathCollection at 0x2166dbefcc8>"
      ]
     },
     "execution_count": 33,
     "metadata": {},
     "output_type": "execute_result"
    },
    {
     "data": {
      "image/png": "[encoded data removed]",
      "text/plain": [
       "<Figure size 432x288 with 1 Axes>"
      ]
     },
     "metadata": {
      "needs_background": "light"
     },
     "output_type": "display_data"
    }
   ],
   "source": [
    "plt.scatter(HotelReview['Title.Pol'], HotelReview['Text.Pol'])"
   ]
  },
  {
   "cell_type": "code",
   "execution_count": 34,
   "metadata": {},
   "outputs": [
    {
     "name": "stdout",
     "output_type": "stream",
     "text": [
      "SpearmanrResult(correlation=0.38276034815663035, pvalue=0.0)\n"
     ]
    }
   ],
   "source": [
    "print(spearmanr(HotelReview['reviews.rating'], HotelReview['Title.Pol']))"
   ]
  },
  {
   "cell_type": "code",
   "execution_count": 35,
   "metadata": {},
   "outputs": [
    {
     "data": {
      "text/plain": [
       "<matplotlib.collections.PathCollection at 0x2166dcbf6c8>"
      ]
     },
     "execution_count": 35,
     "metadata": {},
     "output_type": "execute_result"
    },
    {
     "data": {
      "image/png": "[encoded data removed]",
      "text/plain": [
       "<Figure size 432x288 with 1 Axes>"
      ]
     },
     "metadata": {
      "needs_background": "light"
     },
     "output_type": "display_data"
    }
   ],
   "source": [
    "plt.scatter(HotelReview['reviews.rating'], HotelReview['Title.Pol'])"
   ]
  },
  {
   "cell_type": "code",
   "execution_count": 36,
   "metadata": {},
   "outputs": [
    {
     "name": "stdout",
     "output_type": "stream",
     "text": [
      "SpearmanrResult(correlation=0.5388804782844248, pvalue=0.0)\n"
     ]
    }
   ],
   "source": [
    "print(spearmanr(HotelReview['reviews.rating'], HotelReview['Text.Pol']))"
   ]
  },
  {
   "cell_type": "code",
   "execution_count": 37,
   "metadata": {},
   "outputs": [
    {
     "data": {
      "text/plain": [
       "<matplotlib.collections.PathCollection at 0x2166dd37fc8>"
      ]
     },
     "execution_count": 37,
     "metadata": {},
     "output_type": "execute_result"
    },
    {
     "data": {
      "image/png": "[encoded data removed]",
      "text/plain": [
       "<Figure size 432x288 with 1 Axes>"
      ]
     },
     "metadata": {
      "needs_background": "light"
     },
     "output_type": "display_data"
    }
   ],
   "source": [
    "plt.scatter(HotelReview['reviews.rating'], HotelReview['Text.Pol'])"
   ]
  },
  {
   "cell_type": "markdown",
   "metadata": {},
   "source": [
    "#### Title Sentiments"
   ]
  },
  {
   "cell_type": "code",
   "execution_count": 47,
   "metadata": {},
   "outputs": [
    {
     "ename": "TypeError",
     "evalue": "The `text` argument passed to `__init__(text)` must be a string, not <class 'float'>",
     "output_type": "error",
     "traceback": [
      "\u001b[1;31m---------------------------------------------------------------------------\u001b[0m",
      "\u001b[1;31mTypeError\u001b[0m                                 Traceback (most recent call last)",
      "\u001b[1;32m<ipython-input-47-0375536195ff>\u001b[0m in \u001b[0;36m<module>\u001b[1;34m\u001b[0m\n\u001b[0;32m      1\u001b[0m \u001b[1;31m# Create sentiment metrics\u001b[0m\u001b[1;33m\u001b[0m\u001b[1;33m\u001b[0m\u001b[1;33m\u001b[0m\u001b[0m\n\u001b[1;32m----> 2\u001b[1;33m \u001b[0mtext\u001b[0m \u001b[1;33m=\u001b[0m \u001b[1;33m[\u001b[0m\u001b[0mTextBlob\u001b[0m\u001b[1;33m(\u001b[0m\u001b[0mtext\u001b[0m\u001b[1;33m)\u001b[0m \u001b[1;32mfor\u001b[0m \u001b[0mtext\u001b[0m \u001b[1;32min\u001b[0m \u001b[0mHotelReview\u001b[0m\u001b[1;33m[\u001b[0m\u001b[1;34m'reviews.title'\u001b[0m\u001b[1;33m]\u001b[0m\u001b[1;33m]\u001b[0m\u001b[1;33m\u001b[0m\u001b[1;33m\u001b[0m\u001b[0m\n\u001b[0m\u001b[0;32m      3\u001b[0m \u001b[0mHotelReview\u001b[0m\u001b[1;33m[\u001b[0m\u001b[1;34m'Title.Pol'\u001b[0m\u001b[1;33m]\u001b[0m \u001b[1;33m=\u001b[0m \u001b[1;33m[\u001b[0m\u001b[0mb\u001b[0m\u001b[1;33m.\u001b[0m\u001b[0msentiment\u001b[0m\u001b[1;33m.\u001b[0m\u001b[0mpolarity\u001b[0m \u001b[1;32mfor\u001b[0m \u001b[0mb\u001b[0m \u001b[1;32min\u001b[0m \u001b[0mtext\u001b[0m\u001b[1;33m]\u001b[0m\u001b[1;33m\u001b[0m\u001b[1;33m\u001b[0m\u001b[0m\n\u001b[0;32m      4\u001b[0m \u001b[0mHotelReview\u001b[0m\u001b[1;33m[\u001b[0m\u001b[1;34m'Title.Subj'\u001b[0m\u001b[1;33m]\u001b[0m \u001b[1;33m=\u001b[0m \u001b[1;33m[\u001b[0m\u001b[0mb\u001b[0m\u001b[1;33m.\u001b[0m\u001b[0msentiment\u001b[0m\u001b[1;33m.\u001b[0m\u001b[0msubjectivity\u001b[0m \u001b[1;32mfor\u001b[0m \u001b[0mb\u001b[0m \u001b[1;32min\u001b[0m \u001b[0mtext\u001b[0m\u001b[1;33m]\u001b[0m\u001b[1;33m\u001b[0m\u001b[1;33m\u001b[0m\u001b[0m\n",
      "\u001b[1;32m<ipython-input-47-0375536195ff>\u001b[0m in \u001b[0;36m<listcomp>\u001b[1;34m(.0)\u001b[0m\n\u001b[0;32m      1\u001b[0m \u001b[1;31m# Create sentiment metrics\u001b[0m\u001b[1;33m\u001b[0m\u001b[1;33m\u001b[0m\u001b[1;33m\u001b[0m\u001b[0m\n\u001b[1;32m----> 2\u001b[1;33m \u001b[0mtext\u001b[0m \u001b[1;33m=\u001b[0m \u001b[1;33m[\u001b[0m\u001b[0mTextBlob\u001b[0m\u001b[1;33m(\u001b[0m\u001b[0mtext\u001b[0m\u001b[1;33m)\u001b[0m \u001b[1;32mfor\u001b[0m \u001b[0mtext\u001b[0m \u001b[1;32min\u001b[0m \u001b[0mHotelReview\u001b[0m\u001b[1;33m[\u001b[0m\u001b[1;34m'reviews.title'\u001b[0m\u001b[1;33m]\u001b[0m\u001b[1;33m]\u001b[0m\u001b[1;33m\u001b[0m\u001b[1;33m\u001b[0m\u001b[0m\n\u001b[0m\u001b[0;32m      3\u001b[0m \u001b[0mHotelReview\u001b[0m\u001b[1;33m[\u001b[0m\u001b[1;34m'Title.Pol'\u001b[0m\u001b[1;33m]\u001b[0m \u001b[1;33m=\u001b[0m \u001b[1;33m[\u001b[0m\u001b[0mb\u001b[0m\u001b[1;33m.\u001b[0m\u001b[0msentiment\u001b[0m\u001b[1;33m.\u001b[0m\u001b[0mpolarity\u001b[0m \u001b[1;32mfor\u001b[0m \u001b[0mb\u001b[0m \u001b[1;32min\u001b[0m \u001b[0mtext\u001b[0m\u001b[1;33m]\u001b[0m\u001b[1;33m\u001b[0m\u001b[1;33m\u001b[0m\u001b[0m\n\u001b[0;32m      4\u001b[0m \u001b[0mHotelReview\u001b[0m\u001b[1;33m[\u001b[0m\u001b[1;34m'Title.Subj'\u001b[0m\u001b[1;33m]\u001b[0m \u001b[1;33m=\u001b[0m \u001b[1;33m[\u001b[0m\u001b[0mb\u001b[0m\u001b[1;33m.\u001b[0m\u001b[0msentiment\u001b[0m\u001b[1;33m.\u001b[0m\u001b[0msubjectivity\u001b[0m \u001b[1;32mfor\u001b[0m \u001b[0mb\u001b[0m \u001b[1;32min\u001b[0m \u001b[0mtext\u001b[0m\u001b[1;33m]\u001b[0m\u001b[1;33m\u001b[0m\u001b[1;33m\u001b[0m\u001b[0m\n",
      "\u001b[1;32mD:\\Statsprograms\\Anaconda\\lib\\site-packages\\textblob\\blob.py\u001b[0m in \u001b[0;36m__init__\u001b[1;34m(self, text, tokenizer, pos_tagger, np_extractor, analyzer, parser, classifier, clean_html)\u001b[0m\n\u001b[0;32m    368\u001b[0m         \u001b[1;32mif\u001b[0m \u001b[1;32mnot\u001b[0m \u001b[0misinstance\u001b[0m\u001b[1;33m(\u001b[0m\u001b[0mtext\u001b[0m\u001b[1;33m,\u001b[0m \u001b[0mbasestring\u001b[0m\u001b[1;33m)\u001b[0m\u001b[1;33m:\u001b[0m\u001b[1;33m\u001b[0m\u001b[1;33m\u001b[0m\u001b[0m\n\u001b[0;32m    369\u001b[0m             raise TypeError('The `text` argument passed to `__init__(text)` '\n\u001b[1;32m--> 370\u001b[1;33m                             'must be a string, not {0}'.format(type(text)))\n\u001b[0m\u001b[0;32m    371\u001b[0m         \u001b[1;32mif\u001b[0m \u001b[0mclean_html\u001b[0m\u001b[1;33m:\u001b[0m\u001b[1;33m\u001b[0m\u001b[1;33m\u001b[0m\u001b[0m\n\u001b[0;32m    372\u001b[0m             raise NotImplementedError(\"clean_html has been deprecated. \"\n",
      "\u001b[1;31mTypeError\u001b[0m: The `text` argument passed to `__init__(text)` must be a string, not <class 'float'>"
     ]
    }
   ],
   "source": [
    "# Create sentiment metrics\n",
    "text = [TextBlob(text) for text in HotelReview['reviews.title']]\n",
    "HotelReview['Title.Pol'] = [b.sentiment.polarity for b in text]\n",
    "HotelReview['Title.Subj'] = [b.sentiment.subjectivity for b in text]"
   ]
  },
  {
   "cell_type": "markdown",
   "metadata": {},
   "source": [
    "## Identify the customer pain points"
   ]
  },
  {
   "cell_type": "markdown",
   "metadata": {},
   "source": [
    "Classify the text content. What are the top reasons why the customers a unhappy?"
   ]
  },
  {
   "cell_type": "code",
   "execution_count": null,
   "metadata": {},
   "outputs": [],
   "source": []
  }
 ],
 "metadata": {
  "kernelspec": {
   "display_name": "Python 3",
   "language": "python",
   "name": "python3"
  },
  "language_info": {
   "codemirror_mode": {
    "name": "ipython",
    "version": 3
   },
   "file_extension": ".py",
   "mimetype": "text/x-python",
   "name": "python",
   "nbconvert_exporter": "python",
   "pygments_lexer": "ipython3",
   "version": "3.7.6"
  }
 },
 "nbformat": 4,
 "nbformat_minor": 4
}
